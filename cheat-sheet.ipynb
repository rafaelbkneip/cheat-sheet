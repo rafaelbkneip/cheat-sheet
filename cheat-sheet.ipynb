{
 "cells": [
  {
   "attachments": {},
   "cell_type": "markdown",
   "metadata": {},
   "source": [
    "**Web scraping applications**"
   ]
  },
  {
   "cell_type": "code",
   "execution_count": null,
   "metadata": {},
   "outputs": [],
   "source": [
    "import requests\n",
    "from bs4 import BeautifulSoup\n",
    "from selenium import webdriver\n",
    "from webdriver_manager.chrome import ChromeDriverManager\n",
    "from selenium.webdriver.chrome.options import Options\n",
    "from selenium.webdriver.common.by import By\n",
    "from selenium.webdriver.support.wait import WebDriverWait\n",
    "import selenium.webdriver.support.expected_conditions as EC\n",
    "from time import sleep\n",
    "\n",
    "options = Options()\n",
    "options.add_experimental_option(\"detach\", True)\n",
    "options.add_argument(\"--start-maximized\")\n",
    "options.add_experimental_option(\"excludeSwitches\", ['enable-automation'])\n",
    "\n",
    "navegador = webdriver.Chrome(ChromeDriverManager().install(), options=options)\n",
    "navegador.get(\"\")\n",
    "\n",
    "WebDriverWait(navegador,20).until(EC.presence_of_element_located())"
   ]
  },
  {
   "attachments": {},
   "cell_type": "markdown",
   "metadata": {},
   "source": [
    "**Acessar uma planialha salva no Google Drive pelo Google Colab / Access a Google Drive worksheet on Google Colab**"
   ]
  },
  {
   "cell_type": "code",
   "execution_count": null,
   "metadata": {},
   "outputs": [],
   "source": [
    "from google.colab import drive\n",
    "from google.colab import auth\n",
    "from google.auth import default\n",
    "import gspread\n",
    "\n",
    "auth.authenticate_user()\n",
    "drive.mount('/content/gdrive')\n",
    "\n",
    "creds, _ = default()\n",
    "gc = gspread.authorize(creds)\n",
    "planilha = gc.open('')"
   ]
  },
  {
   "attachments": {},
   "cell_type": "markdown",
   "metadata": {},
   "source": [
    "**Entrar valores em uma planilha do Google Sheets / Input values on a Google Sheets worksheet**"
   ]
  },
  {
   "cell_type": "code",
   "execution_count": null,
   "metadata": {},
   "outputs": [],
   "source": [
    "pagina = planilha.get_worksheet()\n",
    "\n",
    "lista_cel = pagina.range('')\n",
    "\n",
    "lista = []\n",
    "\n",
    "for j in range(len(lista)):  \n",
    "    for i in range (len(lista[0])):\n",
    "        lista_cel[i].value = lista[j][i]\n",
    "\n",
    "    pagina.update_cells(lista_cel, value_input_option=\"USER_ENTERED\")"
   ]
  }
 ],
 "metadata": {
  "kernelspec": {
   "display_name": "Python 3",
   "language": "python",
   "name": "python3"
  },
  "language_info": {
   "codemirror_mode": {
    "name": "ipython",
    "version": 3
   },
   "file_extension": ".py",
   "mimetype": "text/x-python",
   "name": "python",
   "nbconvert_exporter": "python",
   "pygments_lexer": "ipython3",
   "version": "3.10.7"
  },
  "orig_nbformat": 4
 },
 "nbformat": 4,
 "nbformat_minor": 2
}
