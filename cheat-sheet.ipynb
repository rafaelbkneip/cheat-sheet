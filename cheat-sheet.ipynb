{
 "cells": [
  {
   "attachments": {},
   "cell_type": "markdown",
   "metadata": {},
   "source": [
    "**Aplicações web scapring / Web scraping applications** (selenium 4.5.0 version)"
   ]
  },
  {
   "cell_type": "code",
   "execution_count": null,
   "metadata": {},
   "outputs": [],
   "source": [
    "import requests\n",
    "from bs4 import BeautifulSoup\n",
    "from selenium import webdriver\n",
    "from webdriver_manager.chrome import ChromeDriverManager\n",
    "from selenium.webdriver.chrome.options import Options\n",
    "from selenium.webdriver.common.by import By\n",
    "from selenium.webdriver.support.wait import WebDriverWait\n",
    "import selenium.webdriver.support.expected_conditions as EC\n",
    "from time import sleep\n",
    "\n",
    "options = Options()\n",
    "options.add_experimental_option(\"detach\", True)\n",
    "options.add_argument(\"--start-maximized\")\n",
    "options.add_experimental_option(\"excludeSwitches\", ['enable-automation'])\n",
    "\n",
    "navegador = webdriver.Chrome(ChromeDriverManager().install(), options=options)\n",
    "navegador.get(\"\")\n",
    "\n",
    "WebDriverWait(navegador,20).until(EC.presence_of_element_located())\n",
    "\n",
    "#Voltar a página anterior / Go back to the previous page\n",
    "navegador.back()"
   ]
  },
  {
   "attachments": {},
   "cell_type": "markdown",
   "metadata": {},
   "source": [
    "**Aplicações web scapring / Web scraping applications** (selenium 4.10.0 version)"
   ]
  },
  {
   "cell_type": "code",
   "execution_count": null,
   "metadata": {},
   "outputs": [],
   "source": [
    "from selenium import webdriver\n",
    "from selenium.webdriver.chrome.options import Options\n",
    "from selenium.webdriver.common.by import By\n",
    "from selenium.webdriver.support.wait import WebDriverWait\n",
    "import selenium.webdriver.support.expected_conditions as EC\n",
    "from selenium.webdriver.chrome.service import Service\n",
    "from time import sleep\n",
    "\n",
    "options = webdriver.ChromeOptions()\n",
    "options.add_argument('--headless')\n",
    "options.add_argument('--no-sandbox')\n",
    "options.add_argument('--disable-dev-shm-usage')\n",
    "\n",
    "service = Service(executable_path=\"chromedriver\")\n",
    "navegador = webdriver.Chrome(options = options, service = service)"
   ]
  },
  {
   "attachments": {},
   "cell_type": "markdown",
   "metadata": {},
   "source": [
    "**Scraping HTML wrapper element**"
   ]
  },
  {
   "cell_type": "code",
   "execution_count": null,
   "metadata": {},
   "outputs": [],
   "source": [
    "wrapper = navegador.find_element(By.XPATH, '//*[@id=\"wrapper\"]')\n",
    "elemento = wrapper.find_element(By.XPATH,'')"
   ]
  },
  {
   "attachments": {},
   "cell_type": "markdown",
   "metadata": {},
   "source": [
    "**Acessar uma planilha salva no Google Drive pelo Google Colab / Access a Google Drive worksheet on Google Colab**"
   ]
  },
  {
   "cell_type": "code",
   "execution_count": null,
   "metadata": {},
   "outputs": [],
   "source": [
    "from google.colab import drive\n",
    "from google.colab import auth\n",
    "from google.auth import default\n",
    "import gspread\n",
    "\n",
    "auth.authenticate_user()\n",
    "drive.mount('/content/gdrive')\n",
    "\n",
    "creds, _ = default()\n",
    "gc = gspread.authorize(creds)\n",
    "planilha = gc.open('')"
   ]
  },
  {
   "attachments": {},
   "cell_type": "markdown",
   "metadata": {},
   "source": [
    "**Entrar valores em uma planilha do Google Sheets / Input values on a Google Sheets worksheet**"
   ]
  },
  {
   "cell_type": "code",
   "execution_count": null,
   "metadata": {},
   "outputs": [],
   "source": [
    "from time import sleep\n",
    "\n",
    "#Escolher a planilha / Select the sheet\n",
    "pagina = planilha.get_worksheet()\n",
    "\n",
    "#Escrever as informações presentes listas na planilha / Write the information in lists on the Google Spreadsheet spreadsheet\n",
    "for j in range(len(lista)):\n",
    "    #Nesse caso, quatro colunas serão completadas (A a D) / In this case, four columns will completed (A to D)\n",
    "    lista_cel = pagina.range('A' + str(j+1) +':' + 'D' +  str(j+1))\n",
    "    for i in range (len(lista[0])):\n",
    "        lista_cel[i].value = lista[j][i]\n",
    "\n",
    "    sleep(3)\n",
    "\n",
    "    pagina.update_cells(lista_cel, value_input_option=\"USER_ENTERED\")"
   ]
  },
  {
   "attachments": {},
   "cell_type": "markdown",
   "metadata": {},
   "source": [
    "**Baixar e salvar arquivos de um link no Google Colab / Download and save files from a URL on Google Colab**"
   ]
  },
  {
   "cell_type": "code",
   "execution_count": null,
   "metadata": {},
   "outputs": [],
   "source": [
    "from time import sleep\n",
    "import requests\n",
    "\n",
    "#É possível baixar arquivos do Google Sheets em formato pdf diretamente pelo seu link, trocando 'edit' para 'export?format=pdf' / It is possible do download files from Google Sheets in a pdf format directly from the worksheet URL, changing 'edit' to 'export?format=pdf' \n",
    "#Outras configurações / Other configurations\n",
    "    #portrait=true -> Orientação. Se true, retrato. Se false, paisagem / Orientation. If true, portrait. If false, landscape\n",
    "    #size=A4 -> Tamanho da folha\n",
    "    #gridlines=false -> Linhas de grade\n",
    "    #top_margin=0.5 -> Margem superior\n",
    "    #bottom_margin=0.25 -> Margem inferior\n",
    "    #left_margin=0.25 -> Margem esquerda\n",
    "    #right_margin=0.25 -> Margem direita\n",
    "    #r1=0 -> Primeira linha / First row\n",
    "    #c1=0 -> Primeira coluna / First column\n",
    "    #r2=28 -> Última linha / Last row\n",
    "    #c2=9 -> Última coluna / Last column\n",
    "\n",
    "file_url = \"https://docs.google.com/spreadsheets/d/\" + id_planilha + \"/export?format=pdf&portrait=true&size=A4&gridlines=false&gid=\"+ gid +\"&top_margin=0.5&bottom_margin=0.25&left_margin=0.25&right_margin=0.25&right_margin=0.25+&r1=0&c1=1&r2=28&c2=9\"\n",
    "\n",
    "r = requests.get(file_url, stream = True) \n",
    "\n",
    "with open(\"/content/\" + \"Nome\" +\".pdf\", \"wb\") as file: \n",
    "           for block in r.iter_content(): \n",
    "             if block:\n",
    "              file.write(block)"
   ]
  },
  {
   "attachments": {},
   "cell_type": "markdown",
   "metadata": {},
   "source": [
    "**Juntar arquivos pdf em um único arquivo / Merge pdf files into one pdf**"
   ]
  },
  {
   "cell_type": "code",
   "execution_count": null,
   "metadata": {},
   "outputs": [],
   "source": [
    "from PyPDF2 import PdfReader, PdfWriter\n",
    "\n",
    "output = PdfWriter()\n",
    "\n",
    "path = ['', '']\n",
    "\n",
    "for x in range(len(path)):\n",
    "  doc = PdfReader(path[x])\n",
    "  output.add_page(doc[0])\n",
    "\n",
    "outputStream = open( '' + '.pdf', \"wb\")\n",
    "output.write(outputStream)\n",
    "outputStream.close()"
   ]
  },
  {
   "attachments": {},
   "cell_type": "markdown",
   "metadata": {},
   "source": [
    "**Encurtador de link / URL shortener**"
   ]
  },
  {
   "cell_type": "code",
   "execution_count": null,
   "metadata": {},
   "outputs": [],
   "source": [
    "! pip install pyshorteners\n",
    "\n",
    "import pyshorteners\n",
    "\n",
    "long_url = input(\"Enter the URL to shorten: \")\n",
    "type_tiny = pyshorteners.Shortener()\n",
    "short_url = type_tiny.tinyurl.short(long_url)\n",
    "print(\"The Shortened URL is: \" + short_url)"
   ]
  },
  {
   "attachments": {},
   "cell_type": "markdown",
   "metadata": {},
   "source": [
    "**Gerador de QR Code / QR Code generator**"
   ]
  },
  {
   "cell_type": "code",
   "execution_count": null,
   "metadata": {},
   "outputs": [],
   "source": [
    "! pip install pyqrcode\n",
    "! pip install Pillow\n",
    "! pip install pypng\n",
    "\n",
    "import pyqrcode\n",
    "from PIL import Image\n",
    "link = input(\"Link: \")\n",
    "qr_code = pyqrcode.create(link)\n",
    "qr_code.png (\"QRCODE.png\", scale=5)\n",
    "Image.open(\"QRCODE.png\")"
   ]
  },
  {
   "attachments": {},
   "cell_type": "markdown",
   "metadata": {},
   "source": [
    "**Extrair texto de um arquivo pdf no Google Colab / Extract text from a pdf file on Google Colab**"
   ]
  },
  {
   "cell_type": "code",
   "execution_count": null,
   "metadata": {},
   "outputs": [],
   "source": [
    "! pip install pdfplumber -q\n",
    "! pip install PyPDF2\n",
    "\n",
    "#Importando bibliotecas\n",
    "import pdfplumber\n",
    "from google.colab import files\n",
    "from PyPDF2 import PdfReader, PdfWriter\n",
    "\n",
    "pdf = files.upload()\n",
    "\n",
    "pdf = pdfplumber.open('')\n",
    "readpdf = PdfReader('')\n",
    "\n",
    "unica = []\n",
    "\n",
    "print(\"O arquivo possui\", len(readpdf.pages), \"páginas\")\n",
    "\n",
    "for j in range(len(readpdf.pages)):\n",
    "  text = pdf.pages[j].extract_text()\n",
    "  listas = text.split(\"\\n\")\n",
    "  unica.append(listas)"
   ]
  }
 ],
 "metadata": {
  "kernelspec": {
   "display_name": "Python 3",
   "language": "python",
   "name": "python3"
  },
  "language_info": {
   "codemirror_mode": {
    "name": "ipython",
    "version": 3
   },
   "file_extension": ".py",
   "mimetype": "text/x-python",
   "name": "python",
   "nbconvert_exporter": "python",
   "pygments_lexer": "ipython3",
   "version": "3.10.9"
  },
  "orig_nbformat": 4
 },
 "nbformat": 4,
 "nbformat_minor": 2
}
